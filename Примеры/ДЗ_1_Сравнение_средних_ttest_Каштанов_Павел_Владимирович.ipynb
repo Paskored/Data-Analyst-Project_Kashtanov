{
 "cells": [
  {
   "cell_type": "code",
   "execution_count": 1,
   "id": "4695da23-8b9e-4da2-b10f-663aab8ed03b",
   "metadata": {},
   "outputs": [],
   "source": [
    "import pandas as pd\n",
    "import statsmodels.api as sm\n",
    "import scipy.stats as stats\n",
    "import pingouin as pg\n",
    "import seaborn as sns"
   ]
  },
  {
   "cell_type": "code",
   "execution_count": 2,
   "id": "e9bc44ad-fb22-4489-9353-eec7b3dc78c5",
   "metadata": {},
   "outputs": [],
   "source": [
    "# доступ к файлу удалось получить только предварительно скачав его на ПК\n",
    "file = '/Users/Administrator/Documents/Finale Files/titanic3.xls'\n",
    "df0 = pd.read_excel(file)"
   ]
  },
  {
   "cell_type": "code",
   "execution_count": 3,
   "id": "34a64401-4d6b-4686-af8c-29fc82abce64",
   "metadata": {},
   "outputs": [],
   "source": [
    "df = df0[['age', 'survived']].dropna()"
   ]
  },
  {
   "cell_type": "code",
   "execution_count": 4,
   "id": "89e90537-f45a-4783-8398-8128684fc9a0",
   "metadata": {},
   "outputs": [
    {
     "data": {
      "text/plain": [
       "'results_scipy: T-статистика: -1.7964, P-значение: 0.0727'"
      ]
     },
     "execution_count": 4,
     "metadata": {},
     "output_type": "execute_result"
    }
   ],
   "source": [
    "#scipy\n",
    "survived = df[df['survived'] == 1]['age']\n",
    "not_survived= df[df['survived'] == 0]['age']\n",
    "t_statistic, p_value = stats.ttest_ind(survived, not_survived)\n",
    "f\"results_scipy: T-статистика: {t_statistic:.4f}, P-значение: {p_value:.4f}\""
   ]
  },
  {
   "cell_type": "code",
   "execution_count": 5,
   "id": "bee8cace-a1d1-4b07-bfd6-e5d227d03e58",
   "metadata": {},
   "outputs": [
    {
     "data": {
      "text/html": [
       "<div>\n",
       "<style scoped>\n",
       "    .dataframe tbody tr th:only-of-type {\n",
       "        vertical-align: middle;\n",
       "    }\n",
       "\n",
       "    .dataframe tbody tr th {\n",
       "        vertical-align: top;\n",
       "    }\n",
       "\n",
       "    .dataframe thead th {\n",
       "        text-align: right;\n",
       "    }\n",
       "</style>\n",
       "<table border=\"1\" class=\"dataframe\">\n",
       "  <thead>\n",
       "    <tr style=\"text-align: right;\">\n",
       "      <th></th>\n",
       "      <th>T</th>\n",
       "      <th>p-val</th>\n",
       "    </tr>\n",
       "  </thead>\n",
       "  <tbody>\n",
       "    <tr>\n",
       "      <th>T-test</th>\n",
       "      <td>-1.770718</td>\n",
       "      <td>0.076958</td>\n",
       "    </tr>\n",
       "  </tbody>\n",
       "</table>\n",
       "</div>"
      ],
      "text/plain": [
       "               T     p-val\n",
       "T-test -1.770718  0.076958"
      ]
     },
     "execution_count": 5,
     "metadata": {},
     "output_type": "execute_result"
    }
   ],
   "source": [
    "#pingouin\n",
    "survived = df[df['survived'] == 1]['age']\n",
    "not_survived= df[df['survived'] == 0]['age']\n",
    "results_pingouin = pg.ttest(survived, not_survived)[['T', 'p-val']]\n",
    "results_pingouin"
   ]
  },
  {
   "cell_type": "markdown",
   "id": "78dc0fc2-e46e-45c1-a98a-17e014e68523",
   "metadata": {},
   "source": [
    "Вывод: Поскольку P-значение: 0.0727 > 0.05 (уровень ошибки I рода) - принимаем нуль-гипотезу, что средний возраст спасенных пассажиров равен среднему возрасту погибших пассажиров."
   ]
  }
 ],
 "metadata": {
  "kernelspec": {
   "display_name": "Python 3 (ipykernel)",
   "language": "python",
   "name": "python3"
  },
  "language_info": {
   "codemirror_mode": {
    "name": "ipython",
    "version": 3
   },
   "file_extension": ".py",
   "mimetype": "text/x-python",
   "name": "python",
   "nbconvert_exporter": "python",
   "pygments_lexer": "ipython3",
   "version": "3.12.7"
  }
 },
 "nbformat": 4,
 "nbformat_minor": 5
}
